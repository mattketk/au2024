{
 "cells": [
  {
   "cell_type": "code",
   "execution_count": 1,
   "id": "0bc46bc6-db98-4913-beff-f9c5beed9cf8",
   "metadata": {},
   "outputs": [],
   "source": [
    "from sympy import *"
   ]
  },
  {
   "cell_type": "code",
   "execution_count": 10,
   "id": "18f402bd-5eef-40e4-9613-7fd2600fb70a",
   "metadata": {},
   "outputs": [
    {
     "data": {
      "text/latex": [
       "$\\displaystyle \\frac{- L + r_{1}}{\\sqrt{L^{2} - 2 L r_{1} + r_{1}^{2} - z_{2}^{2}}}$"
      ],
      "text/plain": [
       "(-L + r_1)/sqrt(L**2 - 2*L*r_1 + r_1**2 - z_2**2)"
      ]
     },
     "execution_count": 10,
     "metadata": {},
     "output_type": "execute_result"
    }
   ],
   "source": [
    "r1, r2, z2, L = symbols('r_1 r_2 z_2 L')\n",
    "eq = Eq(r1 + sqrt(r2 ** 2 + z2 ** 2), L)\n",
    "rel = solve(eq, r2)[1]\n",
    "diff(rel, r1).expand().simplify()"
   ]
  },
  {
   "cell_type": "markdown",
   "id": "fab66165-bce4-4caf-aae0-27ba565275de",
   "metadata": {},
   "source": [
    "$$r_2 = \\sqrt{(L - r_1 - z_2)(L - r_1 + z_2)}$$"
   ]
  },
  {
   "cell_type": "code",
   "execution_count": null,
   "id": "1f0eb406-2dd1-4b4e-8637-4b6fc9bd7fc2",
   "metadata": {},
   "outputs": [],
   "source": []
  }
 ],
 "metadata": {
  "kernelspec": {
   "display_name": "Python 3 (ipykernel)",
   "language": "python",
   "name": "python3"
  },
  "language_info": {
   "codemirror_mode": {
    "name": "ipython",
    "version": 3
   },
   "file_extension": ".py",
   "mimetype": "text/x-python",
   "name": "python",
   "nbconvert_exporter": "python",
   "pygments_lexer": "ipython3",
   "version": "3.11.8"
  }
 },
 "nbformat": 4,
 "nbformat_minor": 5
}
