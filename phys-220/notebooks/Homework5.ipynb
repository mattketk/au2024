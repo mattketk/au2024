{
 "cells": [
  {
   "cell_type": "code",
   "execution_count": 1,
   "id": "deefe2a8-bc98-4845-8c96-e856fc4d9bee",
   "metadata": {},
   "outputs": [],
   "source": [
    "from sympy import *"
   ]
  },
  {
   "cell_type": "code",
   "execution_count": 9,
   "id": "5a1d6387-ead0-4f08-8632-7b7810314962",
   "metadata": {},
   "outputs": [],
   "source": [
    "q1, q2, mup, mum, c = symbols(\"q_1 q_2 \\\\mu_+ \\\\mu_- c\")"
   ]
  },
  {
   "cell_type": "code",
   "execution_count": 10,
   "id": "7734526e-8b9d-460d-b1f4-f65a48a95ad0",
   "metadata": {},
   "outputs": [],
   "source": [
    "expr = mup * (cosh(q1)**2 + cos(q2)**2) / (c * sqrt((cosh(q1)*cos(q2))**2 + (sinh(q1)*sin(q2))**2)) + mum * (cosh(q1)**2 + cos(q2)**2) / (c * sqrt((cosh(q1)*cos(q2))**2 - (sinh(q1)*sin(q2))**2))"
   ]
  },
  {
   "cell_type": "code",
   "execution_count": 11,
   "id": "0fe19aa8-5a6b-4386-b548-64a96936e5d4",
   "metadata": {},
   "outputs": [
    {
     "data": {
      "text/latex": [
       "$\\displaystyle \\frac{\\left(\\mu_{+} \\sqrt{- \\sin^{2}{\\left(q_{2} \\right)} \\sinh^{2}{\\left(q_{1} \\right)} + \\cos^{2}{\\left(q_{2} \\right)} \\cosh^{2}{\\left(q_{1} \\right)}} + \\mu_{-} \\sqrt{\\sin^{2}{\\left(q_{2} \\right)} \\sinh^{2}{\\left(q_{1} \\right)} + \\cos^{2}{\\left(q_{2} \\right)} \\cosh^{2}{\\left(q_{1} \\right)}}\\right) \\left(\\cos^{2}{\\left(q_{2} \\right)} + \\cosh^{2}{\\left(q_{1} \\right)}\\right)}{c \\sqrt{- \\sin^{2}{\\left(q_{2} \\right)} \\sinh^{2}{\\left(q_{1} \\right)} + \\cos^{2}{\\left(q_{2} \\right)} \\cosh^{2}{\\left(q_{1} \\right)}} \\sqrt{\\sin^{2}{\\left(q_{2} \\right)} \\sinh^{2}{\\left(q_{1} \\right)} + \\cos^{2}{\\left(q_{2} \\right)} \\cosh^{2}{\\left(q_{1} \\right)}}}$"
      ],
      "text/plain": [
       "(\\mu_+*sqrt(-sin(q_2)**2*sinh(q_1)**2 + cos(q_2)**2*cosh(q_1)**2) + \\mu_-*sqrt(sin(q_2)**2*sinh(q_1)**2 + cos(q_2)**2*cosh(q_1)**2))*(cos(q_2)**2 + cosh(q_1)**2)/(c*sqrt(-sin(q_2)**2*sinh(q_1)**2 + cos(q_2)**2*cosh(q_1)**2)*sqrt(sin(q_2)**2*sinh(q_1)**2 + cos(q_2)**2*cosh(q_1)**2))"
      ]
     },
     "execution_count": 11,
     "metadata": {},
     "output_type": "execute_result"
    }
   ],
   "source": [
    "expr.expand().simplify()"
   ]
  },
  {
   "cell_type": "code",
   "execution_count": 14,
   "id": "6dfd9554-b0df-4706-924f-dde1886825bb",
   "metadata": {},
   "outputs": [],
   "source": [
    "expr2=(cosh(q1)**4 - 2*cosh(q1)*cos(q2) + cos(q2)**4) / (cosh(q1)**2*cos(q2)**2 - 2*cosh(q1)*cos(q2) + 1 + sinh(q1)**2*sin(q2)**2)"
   ]
  },
  {
   "cell_type": "code",
   "execution_count": 17,
   "id": "c55b29d5-23a7-483a-a8b0-1f5d414e3eeb",
   "metadata": {},
   "outputs": [
    {
     "data": {
      "text/latex": [
       "$\\displaystyle \\frac{\\cos^{4}{\\left(q_{2} \\right)}}{\\sin^{2}{\\left(q_{2} \\right)} \\sinh^{2}{\\left(q_{1} \\right)} + \\cos^{2}{\\left(q_{2} \\right)} \\cosh^{2}{\\left(q_{1} \\right)} - 2 \\cos{\\left(q_{2} \\right)} \\cosh{\\left(q_{1} \\right)} + 1} - \\frac{2 \\cos{\\left(q_{2} \\right)} \\cosh{\\left(q_{1} \\right)}}{\\sin^{2}{\\left(q_{2} \\right)} \\sinh^{2}{\\left(q_{1} \\right)} + \\cos^{2}{\\left(q_{2} \\right)} \\cosh^{2}{\\left(q_{1} \\right)} - 2 \\cos{\\left(q_{2} \\right)} \\cosh{\\left(q_{1} \\right)} + 1} + \\frac{\\cosh^{4}{\\left(q_{1} \\right)}}{\\sin^{2}{\\left(q_{2} \\right)} \\sinh^{2}{\\left(q_{1} \\right)} + \\cos^{2}{\\left(q_{2} \\right)} \\cosh^{2}{\\left(q_{1} \\right)} - 2 \\cos{\\left(q_{2} \\right)} \\cosh{\\left(q_{1} \\right)} + 1}$"
      ],
      "text/plain": [
       "cos(q_2)**4/(sin(q_2)**2*sinh(q_1)**2 + cos(q_2)**2*cosh(q_1)**2 - 2*cos(q_2)*cosh(q_1) + 1) - 2*cos(q_2)*cosh(q_1)/(sin(q_2)**2*sinh(q_1)**2 + cos(q_2)**2*cosh(q_1)**2 - 2*cos(q_2)*cosh(q_1) + 1) + cosh(q_1)**4/(sin(q_2)**2*sinh(q_1)**2 + cos(q_2)**2*cosh(q_1)**2 - 2*cos(q_2)*cosh(q_1) + 1)"
      ]
     },
     "execution_count": 17,
     "metadata": {},
     "output_type": "execute_result"
    }
   ],
   "source": [
    "expr2.expand()"
   ]
  },
  {
   "cell_type": "code",
   "execution_count": null,
   "id": "3967727b-9ca9-4e25-8986-b23982a49f49",
   "metadata": {},
   "outputs": [],
   "source": []
  }
 ],
 "metadata": {
  "kernelspec": {
   "display_name": "Python 3 (ipykernel)",
   "language": "python",
   "name": "python3"
  },
  "language_info": {
   "codemirror_mode": {
    "name": "ipython",
    "version": 3
   },
   "file_extension": ".py",
   "mimetype": "text/x-python",
   "name": "python",
   "nbconvert_exporter": "python",
   "pygments_lexer": "ipython3",
   "version": "3.11.8"
  }
 },
 "nbformat": 4,
 "nbformat_minor": 5
}
