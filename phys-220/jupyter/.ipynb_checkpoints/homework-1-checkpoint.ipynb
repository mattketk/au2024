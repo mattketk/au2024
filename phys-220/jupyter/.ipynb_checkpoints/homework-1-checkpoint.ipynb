{
 "cells": [
  {
   "cell_type": "code",
   "execution_count": 1,
   "id": "35ec456f-0b34-41ce-90d3-c36dd09434f2",
   "metadata": {},
   "outputs": [],
   "source": [
    "import numpy as np\n",
    "from sympy import *"
   ]
  },
  {
   "cell_type": "code",
   "execution_count": 2,
   "id": "988bda90-863a-4350-803e-0ea5f9a7664b",
   "metadata": {},
   "outputs": [],
   "source": [
    "A, R, x0 = symbols('A R x_0')"
   ]
  },
  {
   "cell_type": "code",
   "execution_count": 7,
   "id": "d86f79d7-b857-434a-9c42-ffcfd714b32b",
   "metadata": {},
   "outputs": [
    {
     "ename": "NotImplementedError",
     "evalue": "multiple generators [A, exp(x_0/A)]\nNo algorithms are implemented to solve equation A*(exp(x_0/A)/2 + exp(-x_0/A)/2) - R",
     "output_type": "error",
     "traceback": [
      "\u001b[0;31m---------------------------------------------------------------------------\u001b[0m",
      "\u001b[0;31mNotImplementedError\u001b[0m                       Traceback (most recent call last)",
      "Cell \u001b[0;32mIn[7], line 2\u001b[0m\n\u001b[1;32m      1\u001b[0m eq2solve \u001b[38;5;241m=\u001b[39m Eq(A \u001b[38;5;241m*\u001b[39m cosh(x0 \u001b[38;5;241m/\u001b[39m A), R)\n\u001b[0;32m----> 2\u001b[0m \u001b[43msolve\u001b[49m\u001b[43m(\u001b[49m\u001b[43meq2solve\u001b[49m\u001b[43m,\u001b[49m\u001b[43m \u001b[49m\u001b[43mA\u001b[49m\u001b[43m)\u001b[49m\n",
      "File \u001b[0;32m~/.pyenv/versions/math/lib/python3.11/site-packages/sympy/solvers/solvers.py:1170\u001b[0m, in \u001b[0;36msolve\u001b[0;34m(f, *symbols, **flags)\u001b[0m\n\u001b[1;32m   1168\u001b[0m         solution \u001b[38;5;241m=\u001b[39m _solve_undetermined(f[\u001b[38;5;241m0\u001b[39m], symbols, flags)\n\u001b[1;32m   1169\u001b[0m     \u001b[38;5;28;01mif\u001b[39;00m \u001b[38;5;129;01mnot\u001b[39;00m solution:\n\u001b[0;32m-> 1170\u001b[0m         solution \u001b[38;5;241m=\u001b[39m \u001b[43m_solve\u001b[49m\u001b[43m(\u001b[49m\u001b[43mf\u001b[49m\u001b[43m[\u001b[49m\u001b[38;5;241;43m0\u001b[39;49m\u001b[43m]\u001b[49m\u001b[43m,\u001b[49m\u001b[43m \u001b[49m\u001b[38;5;241;43m*\u001b[39;49m\u001b[43msymbols\u001b[49m\u001b[43m,\u001b[49m\u001b[43m \u001b[49m\u001b[38;5;241;43m*\u001b[39;49m\u001b[38;5;241;43m*\u001b[39;49m\u001b[43mflags\u001b[49m\u001b[43m)\u001b[49m\n\u001b[1;32m   1171\u001b[0m \u001b[38;5;28;01melse\u001b[39;00m:\n\u001b[1;32m   1172\u001b[0m     linear, solution \u001b[38;5;241m=\u001b[39m _solve_system(f, symbols, \u001b[38;5;241m*\u001b[39m\u001b[38;5;241m*\u001b[39mflags)\n",
      "File \u001b[0;32m~/.pyenv/versions/math/lib/python3.11/site-packages/sympy/solvers/solvers.py:1729\u001b[0m, in \u001b[0;36m_solve\u001b[0;34m(f, *symbols, **flags)\u001b[0m\n\u001b[1;32m   1726\u001b[0m \u001b[38;5;66;03m# ----------- end of fallback ----------------------------\u001b[39;00m\n\u001b[1;32m   1728\u001b[0m \u001b[38;5;28;01mif\u001b[39;00m result \u001b[38;5;129;01mis\u001b[39;00m \u001b[38;5;28;01mFalse\u001b[39;00m:\n\u001b[0;32m-> 1729\u001b[0m     \u001b[38;5;28;01mraise\u001b[39;00m \u001b[38;5;167;01mNotImplementedError\u001b[39;00m(\u001b[38;5;124m'\u001b[39m\u001b[38;5;130;01m\\n\u001b[39;00m\u001b[38;5;124m'\u001b[39m\u001b[38;5;241m.\u001b[39mjoin([msg, not_impl_msg \u001b[38;5;241m%\u001b[39m f]))\n\u001b[1;32m   1731\u001b[0m result \u001b[38;5;241m=\u001b[39m _remove_duplicate_solutions(result)\n\u001b[1;32m   1733\u001b[0m \u001b[38;5;28;01mif\u001b[39;00m flags\u001b[38;5;241m.\u001b[39mget(\u001b[38;5;124m'\u001b[39m\u001b[38;5;124msimplify\u001b[39m\u001b[38;5;124m'\u001b[39m, \u001b[38;5;28;01mTrue\u001b[39;00m):\n",
      "\u001b[0;31mNotImplementedError\u001b[0m: multiple generators [A, exp(x_0/A)]\nNo algorithms are implemented to solve equation A*(exp(x_0/A)/2 + exp(-x_0/A)/2) - R"
     ]
    }
   ],
   "source": [
    "eq2solve = Eq(A * cosh(x0 / A), R)\n",
    "solve(eq2solve, A)"
   ]
  },
  {
   "cell_type": "code",
   "execution_count": null,
   "id": "62a1df6a-cb4c-4ff4-95e8-ec90c2e5d3c7",
   "metadata": {},
   "outputs": [],
   "source": []
  }
 ],
 "metadata": {
  "kernelspec": {
   "display_name": "Python 3 (ipykernel)",
   "language": "python",
   "name": "python3"
  },
  "language_info": {
   "codemirror_mode": {
    "name": "ipython",
    "version": 3
   },
   "file_extension": ".py",
   "mimetype": "text/x-python",
   "name": "python",
   "nbconvert_exporter": "python",
   "pygments_lexer": "ipython3",
   "version": "3.11.8"
  }
 },
 "nbformat": 4,
 "nbformat_minor": 5
}
